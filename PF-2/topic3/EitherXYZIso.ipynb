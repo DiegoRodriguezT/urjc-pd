{
 "cells": [
  {
   "cell_type": "code",
   "execution_count": 1,
   "id": "514cdec2-0117-4c61-8ddc-19499cf29d28",
   "metadata": {},
   "outputs": [
    {
     "data": {
      "text/plain": [
       "defined \u001b[32mtrait\u001b[39m \u001b[36mIsomorphic\u001b[39m"
      ]
     },
     "execution_count": 1,
     "metadata": {},
     "output_type": "execute_result"
    }
   ],
   "source": [
    "trait Isomorphic[A, B]:\n",
    "    \n",
    "    def from(a: A): B\n",
    "    \n",
    "    def to(b: B): A\n",
    "    \n",
    "    // equality \n",
    "    \n",
    "    def equalA(a1: A, a2: A): Boolean = \n",
    "        a1 == a2\n",
    "    \n",
    "    def equalB(b1: B, b2: B): Boolean =\n",
    "        b1 == b2\n",
    "    \n",
    "    // Bijection laws\n",
    "    \n",
    "    def law1(a: A): Boolean = \n",
    "        equalA(to(from(a)), a)\n",
    "    \n",
    "    def law2(b: B): Boolean = \n",
    "        equalB(from(to(b)), b)"
   ]
  },
  {
   "cell_type": "code",
   "execution_count": 3,
   "id": "5c07eaf2-7e87-4d51-86a3-5d2a97782067",
   "metadata": {},
   "outputs": [
    {
     "data": {
      "text/plain": [
       "defined \u001b[32mclass\u001b[39m \u001b[36mIso\u001b[39m"
      ]
     },
     "execution_count": 3,
     "metadata": {},
     "output_type": "execute_result"
    }
   ],
   "source": [
    "class Iso[X,Y,Z] extends Isomorphic[Either[X,Y] => Z, (X => Z, Y => Z)]:\n",
    "    def from(a: Either[X,Y] => Z): (X => Z, Y => Z) =\n",
    "        (((x : X) => a(Left(x) : Either[X,Y]) : Z) : X => Z, ((y : Y) => a(Right(y): Either[X,Y]) : Z) : Y => Z) : (X => Z, Y => Z)\n",
    "\n",
    "    def to(b: (X => Z, Y => Z)): (Either[X,Y] => Z) = \n",
    "        (e : Either[X,Y]) => (\n",
    "            e match \n",
    "                case Left(x: X) => b._1(x) : Z\n",
    "                case Right(y: Y) => b._2(y) : Z\n",
    "        ) : Z\n",
    "\n"
   ]
  },
  {
   "cell_type": "code",
   "execution_count": 5,
   "id": "ced02b13-cfb8-4b0a-8d67-25353ab447f2",
   "metadata": {},
   "outputs": [
    {
     "data": {
      "text/plain": [
       "defined \u001b[32mclass\u001b[39m \u001b[36mIso\u001b[39m"
      ]
     },
     "execution_count": 5,
     "metadata": {},
     "output_type": "execute_result"
    }
   ],
   "source": [
    "class Iso[X,Y,Z] extends Isomorphic[Either[X,Y] => Z, (X => Z, Y => Z)]:\n",
    "    def from(a: Either[X,Y] => Z): (X => Z, Y => Z) =\n",
    "        (((x : X) => a(Left(x))), \n",
    "         ((y : Y) => a(Right(y))))\n",
    "\n",
    "    def to(b: (X => Z, Y => Z)): (Either[X,Y] => Z) = \n",
    "        case Left(x: X) => b._1(x)\n",
    "        case Right(y: Y) => b._2(y)\n"
   ]
  },
  {
   "cell_type": "markdown",
   "id": "c126f3b9-9855-4510-99c9-c9ff067a45c3",
   "metadata": {},
   "source": [
    "X => Unit \\equiv Unit"
   ]
  },
  {
   "cell_type": "code",
   "execution_count": null,
   "id": "6255a8d2-c10a-4ad4-b750-64404bce764b",
   "metadata": {},
   "outputs": [],
   "source": [
    "class Iso[X] extends Isomorphic[X => Unit, Unit]:\n",
    "    def from(a: X => Unit): Unit =\n",
    "        ??? : Unit\n",
    "\n",
    "    def to(b: (X => Z, Y => Z)): (Either[X,Y] => Z) = \n",
    "        case Left(x: X) => b._1(x)\n",
    "        case Right(y: Y) => b._2(y)"
   ]
  },
  {
   "cell_type": "code",
   "execution_count": null,
   "id": "9063403a-b1ed-4700-b14a-1a92c6353867",
   "metadata": {},
   "outputs": [],
   "source": [
    "def from(a: X => Unit): Unit =\n",
    "        ??? : Unit"
   ]
  },
  {
   "cell_type": "code",
   "execution_count": null,
   "id": "d7bf03c6-e4ff-4b9e-876d-a4e81b47f23e",
   "metadata": {},
   "outputs": [],
   "source": [
    "def from(a: X => Unit): Unit =\n",
    "        () : Unit"
   ]
  },
  {
   "cell_type": "code",
   "execution_count": null,
   "id": "b1047668-903e-430a-ae21-ecc2e0b4f641",
   "metadata": {},
   "outputs": [],
   "source": [
    "def to(b: Unit): X => Unit =\n",
    "        ??? : (X => Unit)"
   ]
  },
  {
   "cell_type": "code",
   "execution_count": null,
   "id": "ae443c65-3e6c-4c05-be78-da163b4aaa03",
   "metadata": {},
   "outputs": [],
   "source": [
    "def to(b: Unit): X => Unit =\n",
    "        (x: X) => ??? : Unit"
   ]
  },
  {
   "cell_type": "code",
   "execution_count": 5,
   "id": "34173df9-fad4-4235-b4e8-6c3760f5efa9",
   "metadata": {},
   "outputs": [
    {
     "name": "stderr",
     "output_type": "stream",
     "text": [
      "-- [E006] Not Found Error: cell6.sc:1:17 ---------------------------------------\n",
      "1 |def to(b: Unit): X => Unit =\n",
      "  |                 ^\n",
      "  |                 Not found: type X\n",
      "  |\n",
      "  | longer explanation available when compiling with `-explain`\n",
      "-- [E006] Not Found Error: cell6.sc:2:12 ---------------------------------------\n",
      "2 |        (x: X) => () : Unit\n",
      "  |            ^\n",
      "  |            Not found: type X\n",
      "  |\n",
      "  | longer explanation available when compiling with `-explain`\n",
      "Compilation Failed"
     ]
    }
   ],
   "source": [
    "def to(b: Unit): X => Unit =\n",
    "        (x: X) => () : Unit"
   ]
  },
  {
   "cell_type": "code",
   "execution_count": null,
   "id": "ed0d3446-c102-4c8d-b4e8-e8444f380296",
   "metadata": {},
   "outputs": [],
   "source": [
    "class Iso[X] extends Isomorphic[X => Unit, Unit]:\n",
    "    def from(a: X => Unit): Unit =\n",
    "        () : Unit\n",
    "\n",
    "    def to(b: Unit): X => Unit =\n",
    "        (x: X) => () : Unit"
   ]
  }
 ],
 "metadata": {
  "kernelspec": {
   "display_name": "Scala 3.3",
   "language": "scala",
   "name": "scala33"
  },
  "language_info": {
   "codemirror_mode": "text/x-scala",
   "file_extension": ".sc",
   "mimetype": "text/x-scala",
   "name": "scala",
   "nbconvert_exporter": "script",
   "version": "2.13.12"
  }
 },
 "nbformat": 4,
 "nbformat_minor": 5
}
