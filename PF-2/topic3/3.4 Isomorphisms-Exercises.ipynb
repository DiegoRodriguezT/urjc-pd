{
 "cells": [
  {
   "cell_type": "markdown",
   "metadata": {
    "tags": []
   },
   "source": [
    "### Preamble"
   ]
  },
  {
   "cell_type": "code",
   "execution_count": 3,
   "metadata": {},
   "outputs": [
    {
     "data": {
      "text/plain": [
       "\u001b[32mimport \u001b[39m\u001b[36m$ivy.$                                \n",
       "\u001b[39m\r\n",
       "\u001b[32mimport \u001b[39m\u001b[36morg.scalatest.{Filter => _, _}, flatspec._, matchers._\r\n",
       "\u001b[39m"
      ]
     },
     "execution_count": 3,
     "metadata": {},
     "output_type": "execute_result"
    }
   ],
   "source": [
    "import $ivy.`org.scalatest::scalatest:3.2.16`\n",
    "import org.scalatest.{Filter => _, _}, flatspec._, matchers._"
   ]
  },
  {
   "cell_type": "code",
   "execution_count": 4,
   "metadata": {},
   "outputs": [
    {
     "data": {
      "text/plain": [
       "defined \u001b[32mtrait\u001b[39m \u001b[36mIsomorphic\u001b[39m"
      ]
     },
     "execution_count": 4,
     "metadata": {},
     "output_type": "execute_result"
    }
   ],
   "source": [
    "trait Isomorphic[A, B]{\n",
    "    \n",
    "    def from(a: A): B\n",
    "    \n",
    "    def to(b: B): A\n",
    "    \n",
    "    // equality \n",
    "    \n",
    "    def equalA(a1: A, a2: A): Boolean = \n",
    "        a1 == a2\n",
    "    \n",
    "    def equalB(b1: B, b2: B): Boolean =\n",
    "        b1 == b2\n",
    "    \n",
    "    // Bijection laws\n",
    "    \n",
    "    def law1(a: A): Boolean = \n",
    "        equalA(to(from(a)), a)\n",
    "    \n",
    "    def law2(b: B): Boolean = \n",
    "        equalB(from(to(b)), b)\n",
    "}"
   ]
  },
  {
   "cell_type": "code",
   "execution_count": 5,
   "metadata": {},
   "outputs": [
    {
     "data": {
      "text/plain": [
       "defined \u001b[32mclass\u001b[39m \u001b[36mTestIso\u001b[39m"
      ]
     },
     "execution_count": 5,
     "metadata": {},
     "output_type": "execute_result"
    }
   ],
   "source": [
    "class TestIso[A, B](iso: Isomorphic[A, B])(a: A*)(b: B*)  extends AnyFlatSpec with should.Matchers:\n",
    "    import iso._\n",
    "\n",
    "    \"law1\" should \"hold\" in:\n",
    "        a.forall(law1) should be(true)\n",
    "\n",
    "    \"law2\" should \"hold\" in:\n",
    "        b.forall(law2) should be(true)"
   ]
  },
  {
   "cell_type": "markdown",
   "metadata": {},
   "source": [
    "# Topic 3. Algebraic data types\n"
   ]
  },
  {
   "cell_type": "markdown",
   "metadata": {},
   "source": [
    "## 3.4 Isomorphisms"
   ]
  },
  {
   "cell_type": "markdown",
   "metadata": {},
   "source": [
    "## Exercise 1"
   ]
  },
  {
   "cell_type": "markdown",
   "metadata": {},
   "source": [
    "### Part a)"
   ]
  },
  {
   "cell_type": "markdown",
   "metadata": {},
   "source": [
    "Prove that the isomorphism $Either[Unit, Unit] \\cong Boolean$ holds by implementing the following bijections: "
   ]
  },
  {
   "cell_type": "code",
   "execution_count": null,
   "metadata": {},
   "outputs": [],
   "source": [
    "object Iso1a extends Isomorphic[Boolean, Either[Unit, Unit]]:\n",
    "\n",
    "    def from(a: Boolean): Either[Unit, Unit] = \n",
    "        ???    \n",
    "    \n",
    "    def to(a: Either[Unit, Unit]): Boolean = \n",
    "        ???"
   ]
  },
  {
   "cell_type": "markdown",
   "metadata": {},
   "source": [
    "Check that they are indeed mutual inverses, i.e. that for all $a: Boolean$, `toBoolean(fromBoolean(a))==a`, and that for all $a: Either[Unit, Unit]$, `fromBoolean(toBoolean(a))==a`."
   ]
  },
  {
   "cell_type": "markdown",
   "metadata": {
    "tags": []
   },
   "source": [
    "#### Solution"
   ]
  },
  {
   "cell_type": "code",
   "execution_count": 6,
   "metadata": {},
   "outputs": [
    {
     "data": {
      "text/plain": [
       "defined \u001b[32mobject\u001b[39m \u001b[36mIso1a\u001b[39m"
      ]
     },
     "execution_count": 6,
     "metadata": {},
     "output_type": "execute_result"
    }
   ],
   "source": [
    "object Iso1a extends Isomorphic[Boolean, Either[Unit, Unit]]:\n",
    "\n",
    "    def from(a: Boolean): Either[Unit, Unit] = \n",
    "        if a then Right(()) \n",
    "        else Left(())    \n",
    "    \n",
    "    def to(a: Either[Unit, Unit]): Boolean = \n",
    "        a match\n",
    "            case Left(_) => false\n",
    "            case Right(_) => true"
   ]
  },
  {
   "cell_type": "code",
   "execution_count": 13,
   "metadata": {},
   "outputs": [
    {
     "name": "stdout",
     "output_type": "stream",
     "text": [
      "\u001b[32mcell5$Helper$TestIso:\u001b[0m\n",
      "\u001b[32mlaw1\u001b[0m\n",
      "\u001b[32m- should hold\u001b[0m\n",
      "\u001b[32mlaw2\u001b[0m\n",
      "\u001b[32m- should hold\u001b[0m\n"
     ]
    }
   ],
   "source": [
    "run(TestIso(Iso1a)\n",
    "           (false, true)\n",
    "           (Left(()), Right(())))"
   ]
  },
  {
   "cell_type": "markdown",
   "metadata": {},
   "source": [
    "#### Your solution"
   ]
  },
  {
   "cell_type": "code",
   "execution_count": null,
   "metadata": {},
   "outputs": [],
   "source": [
    "def from(a: Boolean): Either[Unit,Unit] = \n",
    "    ??? : Either[Unit,Unit]"
   ]
  },
  {
   "cell_type": "code",
   "execution_count": 1,
   "metadata": {},
   "outputs": [
    {
     "data": {
      "text/plain": [
       "defined \u001b[32mfunction\u001b[39m \u001b[36mfrom\u001b[39m"
      ]
     },
     "execution_count": 1,
     "metadata": {},
     "output_type": "execute_result"
    }
   ],
   "source": [
    "def from(a: Boolean): Either[Unit,Unit] = \n",
    "    a match \n",
    "        case false => Left(() : Unit): Either[Unit,Unit]\n",
    "        case true => Right(() : Unit): Either[Unit,Unit]"
   ]
  },
  {
   "cell_type": "code",
   "execution_count": 2,
   "metadata": {},
   "outputs": [
    {
     "data": {
      "text/plain": [
       "defined \u001b[32mfunction\u001b[39m \u001b[36mto\u001b[39m"
      ]
     },
     "execution_count": 2,
     "metadata": {},
     "output_type": "execute_result"
    }
   ],
   "source": [
    "def to(b: Either[Unit,Unit]): Boolean = \n",
    "    b match \n",
    "        case Left(_) => false : Boolean\n",
    "        case Right(_) => true : Boolean"
   ]
  },
  {
   "cell_type": "code",
   "execution_count": 12,
   "metadata": {},
   "outputs": [
    {
     "data": {
      "text/plain": [
       "defined \u001b[32mobject\u001b[39m \u001b[36mIso1a\u001b[39m"
      ]
     },
     "execution_count": 12,
     "metadata": {},
     "output_type": "execute_result"
    }
   ],
   "source": [
    "object Iso1a extends Isomorphic[Boolean, Either[Unit, Unit]]:\n",
    "\n",
    "    def from(a: Boolean): Either[Unit, Unit] = \n",
    "        a match \n",
    "            case false => Left(() : Unit): Either[Unit,Unit]\n",
    "            case true => Right(() : Unit): Either[Unit,Unit]    \n",
    "    \n",
    "    def to(b: Either[Unit, Unit]): Boolean = \n",
    "        b match \n",
    "            case Left(_) => false : Boolean\n",
    "            case Right(_) => true : Boolean"
   ]
  },
  {
   "cell_type": "code",
   "execution_count": 12,
   "metadata": {},
   "outputs": [],
   "source": [
    "run(TestIso(Iso1a)\n",
    "        (false,true)\n",
    "        (Left(()), Right(()))"
   ]
  },
  {
   "cell_type": "markdown",
   "metadata": {},
   "source": [
    "### Part b)"
   ]
  },
  {
   "cell_type": "markdown",
   "metadata": {},
   "source": [
    "Show that we can redefine `Option[A]` using `Either[A,Unit]` by implementing the following isomorphism: "
   ]
  },
  {
   "cell_type": "code",
   "execution_count": null,
   "metadata": {},
   "outputs": [],
   "source": [
    "class Iso1b[A] extends Isomorphic[Option[A], Either[A, Unit]]:\n",
    "    // ... "
   ]
  },
  {
   "cell_type": "markdown",
   "metadata": {},
   "source": [
    "Check that these functions are mutual inverses. For that, fix $A$ to particular types (e.g. `Boolean`, `Int`, etc.), and test the equivalences `from(to(e)) == e` and `to(from(o)) == o` for some values $o$ and $e$."
   ]
  },
  {
   "cell_type": "markdown",
   "metadata": {
    "tags": []
   },
   "source": [
    "#### Solution"
   ]
  },
  {
   "cell_type": "code",
   "execution_count": null,
   "metadata": {},
   "outputs": [],
   "source": [
    "class Iso1b[A] extends Isomorphic[Option[A], Either[A, Unit]]:\n",
    "    \n",
    "    def from(o: Option[A]): Either[A, Unit] = \n",
    "        o match\n",
    "            case None => Right(())\n",
    "            case Some(a) => Left(a)\n",
    "\n",
    "    def to(e: Either[A, Unit]): Option[A] = \n",
    "        e match\n",
    "            case Left(a) => Some(a)\n",
    "            case Right(()) => None"
   ]
  },
  {
   "cell_type": "code",
   "execution_count": 16,
   "metadata": {},
   "outputs": [
    {
     "name": "stdout",
     "output_type": "stream",
     "text": [
      "\u001b[32mcell5$Helper$TestIso:\u001b[0m\n",
      "\u001b[32mlaw1\u001b[0m\n",
      "\u001b[32m- should hold\u001b[0m\n",
      "\u001b[32mlaw2\u001b[0m\n",
      "\u001b[32m- should hold\u001b[0m\n"
     ]
    }
   ],
   "source": [
    "run(TestIso(Iso1b[Boolean])\n",
    "           (None, Some(true))\n",
    "           (Left(false), Left(true), Right(())))"
   ]
  },
  {
   "cell_type": "markdown",
   "metadata": {},
   "source": [
    "#### Your solution"
   ]
  },
  {
   "cell_type": "code",
   "execution_count": null,
   "metadata": {},
   "outputs": [],
   "source": [
    "def from(a: Option[A]): Either[A,Unit] = \n",
    "    a match \n",
    "        case Some(u: A) => ??? : Either[A,Unit]\n",
    "        case None => ??? : Either[A,Unit]"
   ]
  },
  {
   "cell_type": "code",
   "execution_count": null,
   "metadata": {},
   "outputs": [],
   "source": [
    "def from(a: Option[A]): Either[A,Unit] = \n",
    "    a match \n",
    "        case Some(u: A) => Left(??? : A) : Either[A,Unit]\n",
    "        case None => Right(??? : Unit) : Either[A,Unit]"
   ]
  },
  {
   "cell_type": "code",
   "execution_count": 14,
   "metadata": {},
   "outputs": [
    {
     "data": {
      "text/plain": [
       "defined \u001b[32mfunction\u001b[39m \u001b[36mfrom\u001b[39m"
      ]
     },
     "execution_count": 14,
     "metadata": {},
     "output_type": "execute_result"
    }
   ],
   "source": [
    "def from[A](a: Option[A]): Either[A,Unit] = \n",
    "    a match \n",
    "        case Some(u: A) => Left(u : A) : Either[A,Unit]\n",
    "        case None => Right(() : Unit) : Either[A,Unit]"
   ]
  },
  {
   "cell_type": "code",
   "execution_count": null,
   "metadata": {},
   "outputs": [],
   "source": [
    "def to[A](b: Either[A,Unit]): Option[A] = \n",
    "    b match \n",
    "        case Left(??? : A) => ??? : Option[A]\n",
    "        case Right(??? : Unit) => ??? : Option[A]"
   ]
  },
  {
   "cell_type": "code",
   "execution_count": null,
   "metadata": {},
   "outputs": [],
   "source": [
    "def to[A](b: Either[A,Unit]): Option[A] = \n",
    "    b match \n",
    "        case Left(a : A) => Some(a) : Option[A]\n",
    "        case Right(() : Unit) => None : Option[A]"
   ]
  },
  {
   "cell_type": "code",
   "execution_count": null,
   "metadata": {},
   "outputs": [],
   "source": [
    "def from[A](a: Option[A]): Either[A,Unit] = \n",
    "    case Some(u) => Left(u)\n",
    "    case None => Right(())"
   ]
  },
  {
   "cell_type": "code",
   "execution_count": null,
   "metadata": {},
   "outputs": [],
   "source": [
    "def to[A](b: Either[A,Unit]): Option[A] = \n",
    "    case Left(a) => Some(a)\n",
    "    case Right(()) => None"
   ]
  },
  {
   "cell_type": "code",
   "execution_count": 15,
   "metadata": {},
   "outputs": [
    {
     "data": {
      "text/plain": [
       "defined \u001b[32mclass\u001b[39m \u001b[36mIso1b\u001b[39m"
      ]
     },
     "execution_count": 15,
     "metadata": {},
     "output_type": "execute_result"
    }
   ],
   "source": [
    "class Iso1b[A] extends Isomorphic[Option[A], Either[A, Unit]]:\n",
    "    def from(a: Option[A]): Either[A,Unit] = \n",
    "        a match\n",
    "            case Some(u) => Left(u)\n",
    "            case None => Right(())\n",
    "    def to(b: Either[A,Unit]): Option[A] = \n",
    "        b match\n",
    "            case Left(a) => Some(a)\n",
    "            case Right(()) => None"
   ]
  },
  {
   "cell_type": "code",
   "execution_count": 17,
   "metadata": {},
   "outputs": [
    {
     "name": "stdout",
     "output_type": "stream",
     "text": [
      "\u001b[32mcell5$Helper$TestIso:\u001b[0m\n",
      "\u001b[32mlaw1\u001b[0m\n",
      "\u001b[32m- should hold\u001b[0m\n",
      "\u001b[32mlaw2\u001b[0m\n",
      "\u001b[32m- should hold\u001b[0m\n"
     ]
    }
   ],
   "source": [
    "run(TestIso(Iso1b[Boolean])\n",
    "           (None, Some(true))\n",
    "           (Left(false), Left(true), Right(())))"
   ]
  },
  {
   "cell_type": "markdown",
   "metadata": {},
   "source": [
    "## Exercise 2"
   ]
  },
  {
   "cell_type": "markdown",
   "metadata": {},
   "source": [
    "How many functions are there of type `Either[Unit, Either[Unit, Unit]] => Boolean`? Identify all of them as alternative implementations of the following signature: "
   ]
  },
  {
   "cell_type": "code",
   "execution_count": null,
   "metadata": {},
   "outputs": [],
   "source": [
    "def f1(e: Either[Unit, Either[Unit, Unit]]): Boolean = e match\n",
    "    case Left(()) => ??? \n",
    "    case Right(Left(())) => ??? \n",
    "    case Right(Right(())) => ??? "
   ]
  },
  {
   "cell_type": "markdown",
   "metadata": {},
   "source": [
    "Idem, as alternative lambda expressions:"
   ]
  },
  {
   "cell_type": "code",
   "execution_count": null,
   "metadata": {},
   "outputs": [],
   "source": [
    "val f1: Either[Unit, Either[Unit, Unit]] => Boolean = \n",
    "    ???"
   ]
  },
  {
   "cell_type": "markdown",
   "metadata": {
    "tags": []
   },
   "source": [
    "#### Solution"
   ]
  },
  {
   "cell_type": "code",
   "execution_count": null,
   "metadata": {},
   "outputs": [],
   "source": [
    "def f1(e: Either[Unit, Either[Unit, Unit]]): Boolean = e match\n",
    "    case Left(()) => false \n",
    "    case Right(Left(())) => false \n",
    "    case Right(Right(())) => false "
   ]
  },
  {
   "cell_type": "code",
   "execution_count": null,
   "metadata": {},
   "outputs": [],
   "source": [
    "def f2(e: Either[Unit, Either[Unit, Unit]]): Boolean = e match\n",
    "    case Left(()) => true \n",
    "    case Right(Left(())) => false \n",
    "    case Right(Right(())) => false "
   ]
  },
  {
   "cell_type": "code",
   "execution_count": null,
   "metadata": {},
   "outputs": [],
   "source": [
    "def f3(e: Either[Unit, Either[Unit, Unit]]): Boolean = e match\n",
    "    case Left(()) => false\n",
    "    case Right(Left(())) => true\n",
    "    case Right(Right(())) => false "
   ]
  },
  {
   "cell_type": "code",
   "execution_count": null,
   "metadata": {},
   "outputs": [],
   "source": [
    "def f4(e: Either[Unit, Either[Unit, Unit]]): Boolean = e match\n",
    "    case Left(()) => true \n",
    "    case Right(Left(())) => true\n",
    "    case Right(Right(())) => false "
   ]
  },
  {
   "cell_type": "code",
   "execution_count": null,
   "metadata": {},
   "outputs": [],
   "source": [
    "def f5(e: Either[Unit, Either[Unit, Unit]]): Boolean = e match\n",
    "    case Left(()) => false \n",
    "    case Right(Left(())) => false \n",
    "    case Right(Right(())) => true "
   ]
  },
  {
   "cell_type": "code",
   "execution_count": null,
   "metadata": {},
   "outputs": [],
   "source": [
    "def f6(e: Either[Unit, Either[Unit, Unit]]): Boolean = e match\n",
    "    case Left(()) => true \n",
    "    case Right(Left(())) => false \n",
    "    case Right(Right(())) => true "
   ]
  },
  {
   "cell_type": "code",
   "execution_count": null,
   "metadata": {},
   "outputs": [],
   "source": [
    "def f7(e: Either[Unit, Either[Unit, Unit]]): Boolean = e match\n",
    "    case Left(()) => false\n",
    "    case Right(Left(())) => true\n",
    "    case Right(Right(())) => true "
   ]
  },
  {
   "cell_type": "code",
   "execution_count": null,
   "metadata": {},
   "outputs": [],
   "source": [
    "def f8(e: Either[Unit, Either[Unit, Unit]]): Boolean = e match\n",
    "    case Left(()) => true \n",
    "    case Right(Left(())) => true\n",
    "    case Right(Right(())) => true "
   ]
  },
  {
   "cell_type": "markdown",
   "metadata": {},
   "source": [
    "With lambda expressions: "
   ]
  },
  {
   "cell_type": "code",
   "execution_count": null,
   "metadata": {},
   "outputs": [],
   "source": [
    "val f8: Either[Unit, Either[Unit, Unit]] => Boolean =\n",
    "    case Left(()) => true \n",
    "    case Right(Left(())) => true\n",
    "    case Right(Right(())) => true "
   ]
  },
  {
   "cell_type": "markdown",
   "metadata": {},
   "source": [
    "etc."
   ]
  },
  {
   "cell_type": "markdown",
   "metadata": {},
   "source": [
    "#### Your solution"
   ]
  },
  {
   "cell_type": "code",
   "execution_count": 18,
   "metadata": {},
   "outputs": [
    {
     "data": {
      "text/plain": [
       "\u001b[36mf1\u001b[39m: \u001b[32mEither\u001b[39m[\u001b[32mUnit\u001b[39m, \u001b[32mEither\u001b[39m[\u001b[32mUnit\u001b[39m, \u001b[32mUnit\u001b[39m]] => \u001b[32mBoolean\u001b[39m = ammonite.$sess.cell18$Helper$$Lambda$3854/0x1dd71998@154f12c\r\n",
       "\u001b[36mf2\u001b[39m: \u001b[32mEither\u001b[39m[\u001b[32mUnit\u001b[39m, \u001b[32mEither\u001b[39m[\u001b[32mUnit\u001b[39m, \u001b[32mUnit\u001b[39m]] => \u001b[32mBoolean\u001b[39m = ammonite.$sess.cell18$Helper$$Lambda$3855/0x1dd72398@16224a5\r\n",
       "\u001b[36mf3\u001b[39m: \u001b[32mEither\u001b[39m[\u001b[32mUnit\u001b[39m, \u001b[32mEither\u001b[39m[\u001b[32mUnit\u001b[39m, \u001b[32mUnit\u001b[39m]] => \u001b[32mBoolean\u001b[39m = ammonite.$sess.cell18$Helper$$Lambda$3856/0x1dd72d98@1c28526\r\n",
       "\u001b[36mf4\u001b[39m: \u001b[32mEither\u001b[39m[\u001b[32mUnit\u001b[39m, \u001b[32mEither\u001b[39m[\u001b[32mUnit\u001b[39m, \u001b[32mUnit\u001b[39m]] => \u001b[32mBoolean\u001b[39m = ammonite.$sess.cell18$Helper$$Lambda$3857/0x1dd73798@cc36c0\r\n",
       "\u001b[36mf5\u001b[39m: \u001b[32mEither\u001b[39m[\u001b[32mUnit\u001b[39m, \u001b[32mEither\u001b[39m[\u001b[32mUnit\u001b[39m, \u001b[32mUnit\u001b[39m]] => \u001b[32mBoolean\u001b[39m = ammonite.$sess.cell18$Helper$$Lambda$3858/0x1dd74198@198a479\r\n",
       "\u001b[36mf6\u001b[39m: \u001b[32mEither\u001b[39m[\u001b[32mUnit\u001b[39m, \u001b[32mEither\u001b[39m[\u001b[32mUnit\u001b[39m, \u001b[32mUnit\u001b[39m]] => \u001b[32mBoolean\u001b[39m = ammonite.$sess.cell18$Helper$$Lambda$3859/0x1dd74b98@1280eaf\r\n",
       "\u001b[36mf7\u001b[39m: \u001b[32mEither\u001b[39m[\u001b[32mUnit\u001b[39m, \u001b[32mEither\u001b[39m[\u001b[32mUnit\u001b[39m, \u001b[32mUnit\u001b[39m]] => \u001b[32mBoolean\u001b[39m = ammonite.$sess.cell18$Helper$$Lambda$3860/0x1dd75598@fd1c71\r\n",
       "\u001b[36mf8\u001b[39m: \u001b[32mEither\u001b[39m[\u001b[32mUnit\u001b[39m, \u001b[32mEither\u001b[39m[\u001b[32mUnit\u001b[39m, \u001b[32mUnit\u001b[39m]] => \u001b[32mBoolean\u001b[39m = ammonite.$sess.cell18$Helper$$Lambda$3861/0x1dd75f98@1eecbb0"
      ]
     },
     "execution_count": 18,
     "metadata": {},
     "output_type": "execute_result"
    }
   ],
   "source": [
    "val f1: Either[Unit, Either[Unit,Unit]] => Boolean =\n",
    "    case Left(()) => false\n",
    "    case Right(Left(())) => false\n",
    "    case Right(Right(())) => false\n",
    "\n",
    "val f2: Either[Unit, Either[Unit,Unit]] => Boolean =\n",
    "    case Left(()) => true\n",
    "    case Right(Left(())) => false\n",
    "    case Right(Right(())) => false\n",
    "\n",
    "val f3: Either[Unit, Either[Unit,Unit]] => Boolean =\n",
    "    case Left(()) => false\n",
    "    case Right(Left(())) => true\n",
    "    case Right(Right(())) => false\n",
    "\n",
    "val f4: Either[Unit, Either[Unit,Unit]] => Boolean =\n",
    "    case Left(()) => false\n",
    "    case Right(Left(())) => false\n",
    "    case Right(Right(())) => true\n",
    "\n",
    "val f5: Either[Unit, Either[Unit,Unit]] => Boolean =\n",
    "    case Left(()) => true\n",
    "    case Right(Left(())) => true\n",
    "    case Right(Right(())) => false\n",
    "\n",
    "val f6: Either[Unit, Either[Unit,Unit]] => Boolean =\n",
    "    case Left(()) => false\n",
    "    case Right(Left(())) => true\n",
    "    case Right(Right(())) => true\n",
    "\n",
    "val f7: Either[Unit, Either[Unit,Unit]] => Boolean =\n",
    "    case Left(()) => true\n",
    "    case Right(Left(())) => false\n",
    "    case Right(Right(())) => true\n",
    "\n",
    "val f8: Either[Unit, Either[Unit,Unit]] => Boolean =\n",
    "    case Left(()) => true\n",
    "    case Right(Left(())) => true\n",
    "    case Right(Right(())) => true"
   ]
  },
  {
   "cell_type": "markdown",
   "metadata": {},
   "source": [
    "## Exercise 3"
   ]
  },
  {
   "cell_type": "markdown",
   "metadata": {},
   "source": [
    "How many different implementations are there of the following function? Recall that two implementations will be considered different if the corresponding mathematical functions are different."
   ]
  },
  {
   "cell_type": "code",
   "execution_count": null,
   "metadata": {},
   "outputs": [],
   "source": [
    "def f1(b: Boolean): Either[Unit, Either[Unit, Unit]] = \n",
    "    ???"
   ]
  },
  {
   "cell_type": "markdown",
   "metadata": {
    "tags": []
   },
   "source": [
    "#### Solution"
   ]
  },
  {
   "cell_type": "code",
   "execution_count": null,
   "metadata": {},
   "outputs": [],
   "source": [
    "def f1(b: Boolean): Either[Unit, Either[Unit, Unit]] = \n",
    "    Left(())\n",
    "\n",
    "def f2(b: Boolean): Either[Unit, Either[Unit, Unit]] = \n",
    "    Right(Left(()))\n",
    "\n",
    "def f3(b: Boolean): Either[Unit, Either[Unit, Unit]] = \n",
    "    Right(Right(()))\n",
    "\n",
    "def f4(b: Boolean): Either[Unit, Either[Unit, Unit]] = \n",
    "    if b then Left(()) else Right(Left(()))\n",
    "\n",
    "def f5(b: Boolean): Either[Unit, Either[Unit, Unit]] = \n",
    "    if b then Right(Left(())) else Right(Right(()))\n",
    "\n",
    "def f6(b: Boolean): Either[Unit, Either[Unit, Unit]] = \n",
    "    if b then Left(()) else Right(Right(()))\n",
    "\n",
    "def f7(b: Boolean): Either[Unit, Either[Unit, Unit]] = \n",
    "    if !b then Left(()) else Right(Left(()))\n",
    "\n",
    "def f8(b: Boolean): Either[Unit, Either[Unit, Unit]] = \n",
    "    if !b then Right(Left(())) else Right(Right(()))\n",
    "\n",
    "def f9(b: Boolean): Either[Unit, Either[Unit, Unit]] = \n",
    "    if !b then Left(()) else Right(Right(()))\n"
   ]
  },
  {
   "cell_type": "markdown",
   "metadata": {},
   "source": [
    "#### Your solution"
   ]
  },
  {
   "cell_type": "code",
   "execution_count": null,
   "metadata": {},
   "outputs": [],
   "source": [
    "// |Boolean => Either[Unit,Either[Unit,Unit]]| = |Either[Unit,Either[Unit,Unit]]|^|Boolean| = (1 + 2)^2 = 3^2 = 9"
   ]
  },
  {
   "cell_type": "code",
   "execution_count": null,
   "metadata": {},
   "outputs": [],
   "source": [
    "def f1(b: Boolean): Either[Unit, Either[Unit, Unit]] = \n",
    "    Left(())"
   ]
  },
  {
   "cell_type": "code",
   "execution_count": null,
   "metadata": {},
   "outputs": [],
   "source": [
    "def f2(b: Boolean): Either[Unit, Either[Unit, Unit]] = \n",
    "    Right(Left(()))"
   ]
  },
  {
   "cell_type": "code",
   "execution_count": null,
   "metadata": {},
   "outputs": [],
   "source": [
    "def f3(b: Boolean): Either[Unit, Either[Unit, Unit]] = \n",
    "    Right(Right(()))"
   ]
  },
  {
   "cell_type": "code",
   "execution_count": 19,
   "metadata": {},
   "outputs": [
    {
     "data": {
      "text/plain": [
       "defined \u001b[32mfunction\u001b[39m \u001b[36mf4\u001b[39m"
      ]
     },
     "execution_count": 19,
     "metadata": {},
     "output_type": "execute_result"
    }
   ],
   "source": [
    "def f4(b: Boolean): Either[Unit, Either[Unit, Unit]] = \n",
    "    if b then Left(()) else Right(Left(()))"
   ]
  },
  {
   "cell_type": "code",
   "execution_count": 19,
   "metadata": {},
   "outputs": [
    {
     "data": {
      "text/plain": [
       "defined \u001b[32mfunction\u001b[39m \u001b[36mf4\u001b[39m"
      ]
     },
     "execution_count": 19,
     "metadata": {},
     "output_type": "execute_result"
    }
   ],
   "source": [
    "def f5(b: Boolean): Either[Unit, Either[Unit, Unit]] = \n",
    "    if b then Left(()) else Right(Right(()))"
   ]
  },
  {
   "cell_type": "code",
   "execution_count": 19,
   "metadata": {},
   "outputs": [
    {
     "data": {
      "text/plain": [
       "defined \u001b[32mfunction\u001b[39m \u001b[36mf4\u001b[39m"
      ]
     },
     "execution_count": 19,
     "metadata": {},
     "output_type": "execute_result"
    }
   ],
   "source": [
    "def f6(b: Boolean): Either[Unit, Either[Unit, Unit]] = \n",
    "    if b then Right(Left(())) else Left(())"
   ]
  },
  {
   "cell_type": "code",
   "execution_count": null,
   "metadata": {},
   "outputs": [],
   "source": [
    "def f7(b: Boolean): Either[Unit, Either[Unit, Unit]] = \n",
    "    if b then Right(Left(())) else Right(Right(()))"
   ]
  },
  {
   "cell_type": "code",
   "execution_count": null,
   "metadata": {},
   "outputs": [],
   "source": [
    "def f8(b: Boolean): Either[Unit, Either[Unit, Unit]] = \n",
    "    if b then Right(Right(())) else Right(Left(()))"
   ]
  },
  {
   "cell_type": "code",
   "execution_count": null,
   "metadata": {},
   "outputs": [],
   "source": [
    "def f9(b: Boolean): Either[Unit, Either[Unit, Unit]] = \n",
    "    if b then Right(Right(())) else Left(())"
   ]
  },
  {
   "cell_type": "markdown",
   "metadata": {},
   "source": [
    "## Exercise 4"
   ]
  },
  {
   "cell_type": "markdown",
   "metadata": {},
   "source": [
    "Show that the following isomorphism holds for exponent types: $X => (Y => Z) \\cong ((Y, X)) => Z$, for all types $X$, $Y$ and $Z$."
   ]
  },
  {
   "cell_type": "code",
   "execution_count": null,
   "metadata": {},
   "outputs": [],
   "source": [
    "class Iso[X, Y, Z] extends Isomorphic[X => (Y => Z), ((Y, X)) => Z]\n",
    "    // ... "
   ]
  },
  {
   "cell_type": "markdown",
   "metadata": {},
   "source": [
    "Implement function equality for the corresponding signatures and check that both functions, `curry` and `uncurry`, are inverses of each other for two sample functions $ex1$ and $ex2$:  "
   ]
  },
  {
   "cell_type": "code",
   "execution_count": 27,
   "metadata": {},
   "outputs": [
    {
     "data": {
      "text/plain": [
       "defined \u001b[32mfunction\u001b[39m \u001b[36mex1\u001b[39m\r\n",
       "defined \u001b[32mfunction\u001b[39m \u001b[36mex2\u001b[39m"
      ]
     },
     "execution_count": 27,
     "metadata": {},
     "output_type": "execute_result"
    }
   ],
   "source": [
    "def ex1: Boolean => Boolean => Boolean = b1 => b2 => false\n",
    "\n",
    "def ex2: ((Boolean, Boolean)) => Boolean = (b1, b2) => true"
   ]
  },
  {
   "cell_type": "markdown",
   "metadata": {
    "tags": []
   },
   "source": [
    "#### Solution"
   ]
  },
  {
   "cell_type": "code",
   "execution_count": null,
   "metadata": {},
   "outputs": [],
   "source": [
    "class Iso[X, Y, Z] extends Isomorphic[X => (Y => Z), ((Y, X)) => Z]:\n",
    "    \n",
    "    // uncurry\n",
    "    def from(f: X => Y => Z): ((Y, X)) => Z = \n",
    "        (y, x) => f(x)(y)\n",
    " \n",
    "    // curry\n",
    "    def to(f: ((Y, X)) => Z): X => Y => Z = \n",
    "        x => y => f(y, x)\n"
   ]
  },
  {
   "cell_type": "code",
   "execution_count": 26,
   "metadata": {},
   "outputs": [
    {
     "data": {
      "text/plain": [
       "defined \u001b[32mobject\u001b[39m \u001b[36mIso1\u001b[39m"
      ]
     },
     "execution_count": 26,
     "metadata": {},
     "output_type": "execute_result"
    }
   ],
   "source": [
    "object Iso1 extends Iso[Boolean, Boolean, Boolean]:\n",
    "    \n",
    "    override def equalA(f1: Boolean => Boolean => Boolean, \n",
    "               f2: Boolean => Boolean => Boolean): Boolean = \n",
    "        f1(false)(false) == f2(false)(false) &&\n",
    "        f1(false)(true) == f2(false)(true) &&\n",
    "        f1(true)(false) == f2(true)(false) &&\n",
    "        f1(true)(true) == f2(true)(true)\n",
    "    \n",
    "    override def equalB(f1: ((Boolean, Boolean)) => Boolean, \n",
    "               f2: ((Boolean, Boolean)) => Boolean): Boolean = \n",
    "        f1(false,false) == f2(false,false) &&\n",
    "        f1(false,true) == f2(false,true) &&\n",
    "        f1(true,false) == f2(true,false) &&\n",
    "        f1(true,true) == f2(true,true)"
   ]
  },
  {
   "cell_type": "code",
   "execution_count": 28,
   "metadata": {},
   "outputs": [
    {
     "name": "stdout",
     "output_type": "stream",
     "text": [
      "\u001b[32mcell5$Helper$TestIso:\u001b[0m\n",
      "\u001b[32mlaw1\u001b[0m\n",
      "\u001b[32m- should hold\u001b[0m\n",
      "\u001b[32mlaw2\u001b[0m\n",
      "\u001b[32m- should hold\u001b[0m\n"
     ]
    }
   ],
   "source": [
    "run(TestIso(Iso1)(ex1)(ex2))"
   ]
  },
  {
   "cell_type": "markdown",
   "metadata": {},
   "source": [
    "#### Your solution"
   ]
  },
  {
   "cell_type": "code",
   "execution_count": null,
   "metadata": {},
   "outputs": [],
   "source": [
    "class Iso[X, Y, Z] extends Isomorphic[X => (Y => Z), ((Y, X)) => Z]:\n",
    "    def from(a: X => (Y => Z)): ((Y,X)) => Z =\n",
    "        ???\n",
    "    def to(b: ((Y,X)) => Z): X => (Y => Z) =\n",
    "        ???"
   ]
  },
  {
   "cell_type": "code",
   "execution_count": null,
   "metadata": {},
   "outputs": [],
   "source": [
    "def from(a: X => (Y => Z)): ((Y,X)) => Z =\n",
    "        ??? : ((Y,X)) => Z"
   ]
  },
  {
   "cell_type": "code",
   "execution_count": null,
   "metadata": {},
   "outputs": [],
   "source": [
    "def from(a: X => (Y => Z)): ((Y,X)) => Z =\n",
    "        (y : Y, x : X) => ??? : Z"
   ]
  },
  {
   "cell_type": "code",
   "execution_count": null,
   "metadata": {},
   "outputs": [],
   "source": [
    "def from(a: X => (Y => Z)): ((Y,X)) => Z =\n",
    "        (y : Y, x : X) => a(??? : X)(??? : Y) : Z"
   ]
  },
  {
   "cell_type": "code",
   "execution_count": 20,
   "metadata": {},
   "outputs": [
    {
     "data": {
      "text/plain": [
       "defined \u001b[32mfunction\u001b[39m \u001b[36mfrom\u001b[39m"
      ]
     },
     "execution_count": 20,
     "metadata": {},
     "output_type": "execute_result"
    }
   ],
   "source": [
    "def from[X,Y,Z](a: X => (Y => Z)): ((Y,X)) => Z =\n",
    "        (y : Y, x : X) => a(x : X)(y : Y) : Z"
   ]
  },
  {
   "cell_type": "code",
   "execution_count": 21,
   "metadata": {},
   "outputs": [
    {
     "data": {
      "text/plain": [
       "defined \u001b[32mfunction\u001b[39m \u001b[36mfrom\u001b[39m"
      ]
     },
     "execution_count": 21,
     "metadata": {},
     "output_type": "execute_result"
    }
   ],
   "source": [
    "def from[X,Y,Z](a: X => (Y => Z)): ((Y,X)) => Z =\n",
    "        (y, x) => a(x)(y)"
   ]
  },
  {
   "cell_type": "code",
   "execution_count": null,
   "metadata": {},
   "outputs": [],
   "source": [
    "def to(b: ((Y,X)) => Z): X => (Y => Z) =\n",
    "        ??? : X => (Y => Z)"
   ]
  },
  {
   "cell_type": "code",
   "execution_count": null,
   "metadata": {},
   "outputs": [],
   "source": [
    "def to(b: ((Y,X)) => Z): X => (Y => Z) =\n",
    "        (x : X) => ??? : (Y => Z)"
   ]
  },
  {
   "cell_type": "code",
   "execution_count": 23,
   "metadata": {},
   "outputs": [
    {
     "data": {
      "text/plain": [
       "defined \u001b[32mfunction\u001b[39m \u001b[36mto\u001b[39m"
      ]
     },
     "execution_count": 23,
     "metadata": {},
     "output_type": "execute_result"
    }
   ],
   "source": [
    "def to[X,Y,Z](b: ((Y,X)) => Z): X => (Y => Z) =\n",
    "        (x : X) => (y: Y) => ??? : Z"
   ]
  },
  {
   "cell_type": "code",
   "execution_count": 24,
   "metadata": {},
   "outputs": [
    {
     "data": {
      "text/plain": [
       "defined \u001b[32mfunction\u001b[39m \u001b[36mto\u001b[39m"
      ]
     },
     "execution_count": 24,
     "metadata": {},
     "output_type": "execute_result"
    }
   ],
   "source": [
    "def to[X,Y,Z](b: ((Y,X)) => Z): X => (Y => Z) =\n",
    "        (x : X) => (y: Y) => b(y,x) : Z"
   ]
  },
  {
   "cell_type": "code",
   "execution_count": 25,
   "metadata": {},
   "outputs": [
    {
     "data": {
      "text/plain": [
       "defined \u001b[32mclass\u001b[39m \u001b[36mIso\u001b[39m"
      ]
     },
     "execution_count": 25,
     "metadata": {},
     "output_type": "execute_result"
    }
   ],
   "source": [
    "class Iso[X, Y, Z] extends Isomorphic[X => (Y => Z), ((Y, X)) => Z]:\n",
    "    def from(a: X => (Y => Z)): ((Y,X)) => Z =\n",
    "        (y, x) => a(x)(y)\n",
    "    def to(b: ((Y,X)) => Z): X => (Y => Z) =\n",
    "        x => y => b(y,x)"
   ]
  },
  {
   "cell_type": "code",
   "execution_count": 30,
   "metadata": {},
   "outputs": [
    {
     "name": "stdout",
     "output_type": "stream",
     "text": [
      "\u001b[32mcell5$Helper$TestIso:\u001b[0m\n",
      "\u001b[32mlaw1\u001b[0m\n",
      "\u001b[32m- should hold\u001b[0m\n",
      "\u001b[32mlaw2\u001b[0m\n",
      "\u001b[32m- should hold\u001b[0m\n"
     ]
    },
    {
     "data": {
      "text/plain": [
       "defined \u001b[32mobject\u001b[39m \u001b[36mIso1\u001b[39m"
      ]
     },
     "execution_count": 30,
     "metadata": {},
     "output_type": "execute_result"
    }
   ],
   "source": [
    "object Iso1 extends Iso[Boolean,Boolean,Boolean]:\n",
    "    override def equalA(f1: Boolean => (Boolean => Boolean), f2: Boolean => (Boolean => Boolean)): Boolean =\n",
    "        f1(false)(false) == f2(false)(false) && f1(true)(false) == f2(true)(false) && \n",
    "        f1(false)(true) == f2(false)(true) && f1(true)(true) == f2(true)(true)\n",
    "\n",
    "    override def equalB(f1: ((Boolean,Boolean)) => Boolean, f2: ((Boolean,Boolean)) => Boolean): Boolean =\n",
    "            f1(false,false) == f2(false,false) && f1(true,false) == f2(true,false) && \n",
    "            f1(false,true) == f2(false,true) && f1(true,true) == f2(true,true)\n",
    "\n",
    "run(TestIso(Iso1)\n",
    "   (ex1)(ex2))"
   ]
  },
  {
   "cell_type": "markdown",
   "metadata": {},
   "source": [
    "## Exercise 5"
   ]
  },
  {
   "cell_type": "markdown",
   "metadata": {},
   "source": [
    "Shows that the following law holds for exponent types: $X => (Y, Z) \\cong (X => Y, X => Z)$, for all types $X$, $Y$ and $Z$."
   ]
  },
  {
   "cell_type": "markdown",
   "metadata": {},
   "source": [
    "Fix $X$, $Y$ and $Z$ to particular types, implement equality for the corresponding signatures and check that both functions, `from` and `to`, are inverses of each other given two sample functions of your choice.  "
   ]
  },
  {
   "cell_type": "markdown",
   "metadata": {
    "tags": []
   },
   "source": [
    "#### Solution"
   ]
  },
  {
   "cell_type": "code",
   "execution_count": null,
   "metadata": {},
   "outputs": [],
   "source": [
    "class Iso[X, Y, Z] extends Isomorphic[X => (Y, Z), (X => Y, X => Z)]:\n",
    "    \n",
    "    def from(f: X => (Y, Z)): (X => Y, X => Z) = \n",
    "        (x => f(x)._1, x => f(x)._2)\n",
    "\n",
    "    def to(t: (X => Y, X => Z)): X => (Y, Z) = t match\n",
    "        case (f1, f2) => x => (f1(x), f2(x))"
   ]
  },
  {
   "cell_type": "code",
   "execution_count": null,
   "metadata": {},
   "outputs": [],
   "source": [
    "object Iso1 extends Iso[Boolean, Boolean, Boolean]:\n",
    "    \n",
    "    def equalAux(f1: Boolean => Boolean, f2: Boolean => Boolean): Boolean = \n",
    "        f1(false) == f2(false) && \n",
    "        f1(true) == f2(true)\n",
    "    \n",
    "    override def equalA(f1: Boolean => (Boolean, Boolean), f2: Boolean => (Boolean, Boolean)): Boolean = \n",
    "        f1(false) == f2(false) && \n",
    "        f1(true) == f2(true)\n",
    "    \n",
    "    override def equalB(f1: (Boolean => Boolean, Boolean => Boolean), \n",
    "                        f2: (Boolean => Boolean, Boolean => Boolean)): Boolean = \n",
    "        equalAux(f1._1, f2._1) && equalAux(f1._2, f2._2)"
   ]
  },
  {
   "cell_type": "code",
   "execution_count": null,
   "metadata": {},
   "outputs": [],
   "source": [
    "val ex1: Boolean => (Boolean, Boolean) = \n",
    "    _ => (false, false)\n",
    "\n",
    "val ex2: (Boolean => Boolean, Boolean => Boolean) = \n",
    "    (_ => true, ! _)"
   ]
  },
  {
   "cell_type": "code",
   "execution_count": null,
   "metadata": {},
   "outputs": [],
   "source": [
    "run(TestIso(Iso1)(ex1)(ex2))"
   ]
  },
  {
   "cell_type": "markdown",
   "metadata": {},
   "source": [
    "#### Your solution"
   ]
  },
  {
   "cell_type": "code",
   "execution_count": 32,
   "metadata": {},
   "outputs": [
    {
     "data": {
      "text/plain": [
       "defined \u001b[32mclass\u001b[39m \u001b[36mIso\u001b[39m"
      ]
     },
     "execution_count": 32,
     "metadata": {},
     "output_type": "execute_result"
    }
   ],
   "source": [
    "class Iso[X,Y,Z] extends Isomorphic[X=>(Y,Z),(X=>Y,X=>Z)]:\n",
    "    def from(a: X => (Y,Z)): (X=>Y,X=>Z) = \n",
    "        ??? : (X=>Y,X=>Z)\n",
    "\n",
    "    def to(b: (X=>Y, X=>Z)): X => (Y,Z) =\n",
    "        ??? : (X => (Y,Z))"
   ]
  },
  {
   "cell_type": "code",
   "execution_count": 32,
   "metadata": {},
   "outputs": [
    {
     "data": {
      "text/plain": [
       "defined \u001b[32mclass\u001b[39m \u001b[36mIso\u001b[39m"
      ]
     },
     "execution_count": 32,
     "metadata": {},
     "output_type": "execute_result"
    }
   ],
   "source": [
    "def from(a: X => (Y,Z)): (X=>Y,X=>Z) = \n",
    "    ??? : (X=>Y,X=>Z)"
   ]
  },
  {
   "cell_type": "code",
   "execution_count": 32,
   "metadata": {},
   "outputs": [
    {
     "data": {
      "text/plain": [
       "defined \u001b[32mclass\u001b[39m \u001b[36mIso\u001b[39m"
      ]
     },
     "execution_count": 32,
     "metadata": {},
     "output_type": "execute_result"
    }
   ],
   "source": [
    "def from(a: X => (Y,Z)): (X=>Y,X=>Z) = \n",
    "    (??? : X => Y, ??? : X => Z) : (X=>Y,X=>Z)"
   ]
  },
  {
   "cell_type": "code",
   "execution_count": 35,
   "metadata": {},
   "outputs": [
    {
     "data": {
      "text/plain": [
       "defined \u001b[32mfunction\u001b[39m \u001b[36mfrom\u001b[39m"
      ]
     },
     "execution_count": 35,
     "metadata": {},
     "output_type": "execute_result"
    }
   ],
   "source": [
    "def from[X,Y,Z](a: X => (Y,Z)): (X=>Y,X=>Z) = \n",
    "    ((x: X) => a(x)._1 : Y, (x : X) => a(x)._2 : Z) : (X=>Y,X=>Z)"
   ]
  },
  {
   "cell_type": "code",
   "execution_count": 36,
   "metadata": {},
   "outputs": [
    {
     "data": {
      "text/plain": [
       "defined \u001b[32mfunction\u001b[39m \u001b[36mfrom\u001b[39m"
      ]
     },
     "execution_count": 36,
     "metadata": {},
     "output_type": "execute_result"
    }
   ],
   "source": [
    "def from[X,Y,Z](a: X => (Y,Z)): (X=>Y,X=>Z) = \n",
    "    x => a(x)._1, x => a(x)._2"
   ]
  },
  {
   "cell_type": "code",
   "execution_count": 36,
   "metadata": {},
   "outputs": [
    {
     "data": {
      "text/plain": [
       "defined \u001b[32mfunction\u001b[39m \u001b[36mfrom\u001b[39m"
      ]
     },
     "execution_count": 36,
     "metadata": {},
     "output_type": "execute_result"
    }
   ],
   "source": [
    "def to(b: (X=>Y, X=>Z)): X => (Y,Z) =\n",
    "        ??? : (X => (Y,Z))"
   ]
  },
  {
   "cell_type": "code",
   "execution_count": 36,
   "metadata": {},
   "outputs": [
    {
     "data": {
      "text/plain": [
       "defined \u001b[32mfunction\u001b[39m \u001b[36mfrom\u001b[39m"
      ]
     },
     "execution_count": 36,
     "metadata": {},
     "output_type": "execute_result"
    }
   ],
   "source": [
    "def to(b: (X=>Y, X=>Z)): X => (Y,Z) =\n",
    "        (x: X) => ??? : (Y,Z)"
   ]
  },
  {
   "cell_type": "code",
   "execution_count": null,
   "metadata": {},
   "outputs": [],
   "source": [
    "def to(b: (X=>Y, X=>Z)): X => (Y,Z) =\n",
    "        (x: X) => (??? : Y, ??? : Z) : (Y,Z)"
   ]
  },
  {
   "cell_type": "code",
   "execution_count": 37,
   "metadata": {},
   "outputs": [
    {
     "data": {
      "text/plain": [
       "defined \u001b[32mfunction\u001b[39m \u001b[36mto\u001b[39m"
      ]
     },
     "execution_count": 37,
     "metadata": {},
     "output_type": "execute_result"
    }
   ],
   "source": [
    "def to[X,Y,Z](b: (X=>Y, X=>Z)): X => (Y,Z) =\n",
    "        (x: X) => (b._1(x) : Y, b._2(x) : Z) : (Y,Z)"
   ]
  },
  {
   "cell_type": "code",
   "execution_count": 37,
   "metadata": {},
   "outputs": [
    {
     "data": {
      "text/plain": [
       "defined \u001b[32mfunction\u001b[39m \u001b[36mto\u001b[39m"
      ]
     },
     "execution_count": 37,
     "metadata": {},
     "output_type": "execute_result"
    }
   ],
   "source": [
    "def to[X,Y,Z](b: (X=>Y, X=>Z)): X => (Y,Z) =\n",
    "        x => (b._1(x), b._2(x))"
   ]
  },
  {
   "cell_type": "code",
   "execution_count": 39,
   "metadata": {},
   "outputs": [
    {
     "data": {
      "text/plain": [
       "defined \u001b[32mclass\u001b[39m \u001b[36mIso\u001b[39m"
      ]
     },
     "execution_count": 39,
     "metadata": {},
     "output_type": "execute_result"
    }
   ],
   "source": [
    "class Iso[X,Y,Z] extends Isomorphic[X=>(Y,Z),(X=>Y,X=>Z)]:\n",
    "    def from(a: X => (Y,Z)): (X=>Y,X=>Z) = \n",
    "        (x => a(x)._1, x => a(x)._2)\n",
    "\n",
    "    def to(b: (X=>Y, X=>Z)): X => (Y,Z) =\n",
    "        x => (b._1(x), b._2(x))"
   ]
  },
  {
   "cell_type": "code",
   "execution_count": 40,
   "metadata": {},
   "outputs": [
    {
     "data": {
      "text/plain": [
       "defined \u001b[32mobject\u001b[39m \u001b[36mIso1\u001b[39m"
      ]
     },
     "execution_count": 40,
     "metadata": {},
     "output_type": "execute_result"
    }
   ],
   "source": [
    "object Iso1 extends Iso[Boolean, Boolean, Boolean]:\n",
    "    def equalAux(f1: Boolean => Boolean, f2: Boolean => Boolean): Boolean = \n",
    "        f1(false) == f2(false) && \n",
    "        f1(true) == f2(true)\n",
    "    \n",
    "    override def equalA(f1: Boolean => (Boolean, Boolean), f2: Boolean => (Boolean, Boolean)): Boolean = \n",
    "        f1(false) == f2(false) && \n",
    "        f1(true) == f2(true)\n",
    "    \n",
    "    override def equalB(f1: (Boolean => Boolean, Boolean => Boolean), \n",
    "                        f2: (Boolean => Boolean, Boolean => Boolean)): Boolean = \n",
    "        f1._1(false) == f2._1(false) && f1._2(false) == f2._2(false) && f1._1(true) == f2._1(true) && f1._2(true) == f2._2(true)"
   ]
  },
  {
   "cell_type": "code",
   "execution_count": null,
   "metadata": {},
   "outputs": [],
   "source": [
    "val ex1: Boolean => (Boolean, Boolean) = _ => (false,false)"
   ]
  },
  {
   "cell_type": "code",
   "execution_count": null,
   "metadata": {},
   "outputs": [],
   "source": [
    "val ex2: (Boolean => Boolean, Boolean => Boolean) = (_ => false, _ => false)"
   ]
  },
  {
   "cell_type": "code",
   "execution_count": 43,
   "metadata": {},
   "outputs": [
    {
     "name": "stdout",
     "output_type": "stream",
     "text": [
      "\u001b[32mcell5$Helper$TestIso:\u001b[0m\n",
      "\u001b[32mlaw1\u001b[0m\n",
      "\u001b[32m- should hold\u001b[0m\n",
      "\u001b[32mlaw2\u001b[0m\n",
      "\u001b[32m- should hold\u001b[0m\n"
     ]
    }
   ],
   "source": [
    "run(TestIso(Iso1)(ex1)(ex2))"
   ]
  },
  {
   "cell_type": "markdown",
   "metadata": {},
   "source": [
    "## Exercise 6"
   ]
  },
  {
   "cell_type": "markdown",
   "metadata": {},
   "source": [
    "Shows that the following isomorphisms holds for algebraic data types:"
   ]
  },
  {
   "cell_type": "markdown",
   "metadata": {},
   "source": [
    "$$ \n",
    "\\begin{array}{rcl}\n",
    "Either[X,Nothing] & \\cong & X \\\\\n",
    "\\end{array}\n",
    "$$\n",
    "\n"
   ]
  },
  {
   "cell_type": "code",
   "execution_count": 49,
   "metadata": {},
   "outputs": [
    {
     "data": {
      "text/plain": [
       "defined \u001b[32mclass\u001b[39m \u001b[36mIso\u001b[39m"
      ]
     },
     "execution_count": 49,
     "metadata": {},
     "output_type": "execute_result"
    }
   ],
   "source": [
    "// extends trait Isomorphic\n",
    "class Iso[X] extends Isomorphic[Either[X,Nothing],X]:\n",
    "    def from(a: Either[X,Nothing]): X = \n",
    "        a match \n",
    "            case Left(x: X) => x : X\n",
    "            case Right(n) => n : X\n",
    "\n",
    "    def to(a: X): Either[X,Nothing] = \n",
    "        Left(a) : Either[X,Nothing]"
   ]
  },
  {
   "cell_type": "markdown",
   "metadata": {},
   "source": [
    "$$ \n",
    "\\begin{array}{rcl}\n",
    "Either[X,Y] & \\cong & Either[Y,X] \\\\\n",
    "\\end{array}\n",
    "$$\n",
    "\n"
   ]
  },
  {
   "cell_type": "code",
   "execution_count": 50,
   "metadata": {},
   "outputs": [
    {
     "data": {
      "text/plain": [
       "defined \u001b[32mclass\u001b[39m \u001b[36mIso\u001b[39m"
      ]
     },
     "execution_count": 50,
     "metadata": {},
     "output_type": "execute_result"
    }
   ],
   "source": [
    "// extends trait Isomorphic\n",
    "class Iso[X,Y] extends Isomorphic[Either[X,Y],Either[Y,X]]:\n",
    "    def from(a: Either[X,Y]): Either[Y,X] = \n",
    "        a match \n",
    "            case Left(x: X) => Right(x) : Either[Y,X]\n",
    "            case Right(y: Y) => Left(y) : Either[Y,X]\n",
    "    def to(a: Either[Y,X]): Either[X,Y] = \n",
    "        a match \n",
    "            case Left(y: Y) => Right(y) : Either[X,Y]\n",
    "            case Right(x: X) => Left(x) : Either[X,Y]"
   ]
  },
  {
   "cell_type": "markdown",
   "metadata": {},
   "source": [
    "$$ \n",
    "\\begin{array}{rcl}\n",
    "Either[X,Either[Y,Z]] & \\cong & Either[Either[X,Y],Z] \\\\\n",
    "\\end{array}\n",
    "$$\n",
    "\n"
   ]
  },
  {
   "cell_type": "code",
   "execution_count": 51,
   "metadata": {},
   "outputs": [
    {
     "data": {
      "text/plain": [
       "defined \u001b[32mclass\u001b[39m \u001b[36mIso\u001b[39m"
      ]
     },
     "execution_count": 51,
     "metadata": {},
     "output_type": "execute_result"
    }
   ],
   "source": [
    "// extends trait Isomorphic\n",
    "class Iso[X,Y,Z] extends Isomorphic[Either[X,Either[Y,Z]],Either[Either[X,Y],Z]]:\n",
    "    def from(a: Either[X,Either[Y,Z]]): Either[Either[X,Y],Z] = \n",
    "        a match \n",
    "            case Left(x : X) => Left(Left(x))\n",
    "            case Right(Left(y: Y)) => Left(Right(y))\n",
    "            case Right(Right(z: Z)) => Right(z)\n",
    "\n",
    "    def to(b: Either[Either[X,Y],Z]): Either[X,Either[Y,Z]] = \n",
    "        b match \n",
    "            case Left(Left(x)) => Left(x)\n",
    "            case Left(Right(y)) => Right(Left(y))\n",
    "            case Right(z) => Right(Right(z))"
   ]
  },
  {
   "cell_type": "markdown",
   "metadata": {},
   "source": [
    "$$ \n",
    "\\begin{array}{rcl}\n",
    "(X,Nothing) & \\cong & Nothing \\\\\n",
    "\\end{array}\n",
    "$$\n",
    "\n"
   ]
  },
  {
   "cell_type": "code",
   "execution_count": 52,
   "metadata": {},
   "outputs": [
    {
     "data": {
      "text/plain": [
       "defined \u001b[32mclass\u001b[39m \u001b[36mIso\u001b[39m"
      ]
     },
     "execution_count": 52,
     "metadata": {},
     "output_type": "execute_result"
    }
   ],
   "source": [
    "// extends trait Isomorphic\n",
    "class Iso[X] extends Isomorphic[(X,Nothing), Nothing]:\n",
    "    def from(a: (X,Nothing)): Nothing = \n",
    "        a._2\n",
    "    def to(a: Nothing): (X,Nothing) = \n",
    "        (a,a)"
   ]
  },
  {
   "cell_type": "markdown",
   "metadata": {},
   "source": [
    "$$ \n",
    "\\begin{array}{rcl}\n",
    "(X,Unit) & \\cong & X \\\\\n",
    "\\end{array}\n",
    "$$\n",
    "\n"
   ]
  },
  {
   "cell_type": "code",
   "execution_count": 53,
   "metadata": {},
   "outputs": [
    {
     "data": {
      "text/plain": [
       "defined \u001b[32mclass\u001b[39m \u001b[36mIso\u001b[39m"
      ]
     },
     "execution_count": 53,
     "metadata": {},
     "output_type": "execute_result"
    }
   ],
   "source": [
    "// extends trait Isomorphic\n",
    "class Iso[X] extends Isomorphic[(X,Unit), X]:\n",
    "    def from(a: (X,Unit)): X = \n",
    "        a._1\n",
    "    def to(b: X): (X,Unit) = (b,())"
   ]
  },
  {
   "cell_type": "markdown",
   "metadata": {},
   "source": [
    "$$ \n",
    "\\begin{array}{rcl}\n",
    "(X,Y) & \\cong & (Y,X) \\\\\n",
    "\\end{array}\n",
    "$$\n",
    "\n"
   ]
  },
  {
   "cell_type": "code",
   "execution_count": 54,
   "metadata": {},
   "outputs": [
    {
     "data": {
      "text/plain": [
       "defined \u001b[32mclass\u001b[39m \u001b[36mIso\u001b[39m"
      ]
     },
     "execution_count": 54,
     "metadata": {},
     "output_type": "execute_result"
    }
   ],
   "source": [
    "// extends trait Isomorphic\n",
    "class Iso[X,Y] extends Isomorphic[(X,Y),(Y,X)]:\n",
    "    def from(a: (X,Y)): (Y,X) = \n",
    "        (a._2,a._1)\n",
    "    def to(b:(Y,X)): (X,Y) = \n",
    "        (b._2,b._1)"
   ]
  },
  {
   "cell_type": "markdown",
   "metadata": {},
   "source": [
    "$$ \n",
    "\\begin{array}{rcl}\n",
    "(X,(Y,Z)) & \\cong & ((X,Y),Z) \\\\\n",
    "\\end{array}\n",
    "$$\n",
    "\n"
   ]
  },
  {
   "cell_type": "code",
   "execution_count": 55,
   "metadata": {},
   "outputs": [
    {
     "data": {
      "text/plain": [
       "defined \u001b[32mclass\u001b[39m \u001b[36mIso\u001b[39m"
      ]
     },
     "execution_count": 55,
     "metadata": {},
     "output_type": "execute_result"
    }
   ],
   "source": [
    "// extends trait Isomorphic\n",
    "class Iso[X,Y,Z] extends Isomorphic[(X,(Y,Z)),((X,Y),Z)]:\n",
    "    def from(a: (X,(Y,Z))): ((X,Y),Z) = \n",
    "        ((a._1 : X, a._2._1 : Y), a._2._2 : Z) : ((X,Y),Z)\n",
    "    def to(b: ((X,Y),Z)): (X,(Y,Z)) = \n",
    "        (b._1._1, (b._1._2, b._2))"
   ]
  },
  {
   "cell_type": "markdown",
   "metadata": {},
   "source": [
    "$$ \n",
    "\\begin{array}{rcl}\n",
    "(X,Either[Y,Z]) & \\cong & Either[(X,Y),(X,Z)] \\\\\n",
    "\\end{array}\n",
    "$$\n",
    "\n"
   ]
  },
  {
   "cell_type": "code",
   "execution_count": 57,
   "metadata": {},
   "outputs": [
    {
     "data": {
      "text/plain": [
       "defined \u001b[32mclass\u001b[39m \u001b[36mIso\u001b[39m"
      ]
     },
     "execution_count": 57,
     "metadata": {},
     "output_type": "execute_result"
    }
   ],
   "source": [
    "// extends trait Isomorphic\n",
    "class Iso[X,Y,Z] extends Isomorphic[(X,Either[Y,Z]),Either[(X,Y),(X,Z)]]:\n",
    "    def from(a: (X,Either[Y,Z])): Either[(X,Y),(X,Z)] = \n",
    "        a match \n",
    "            case (x : X, Left(y: Y)) => Left((x,y))\n",
    "            case (x : X, Right(z: Z)) => Right((x,z))\n",
    "\n",
    "    def to(b: Either[(X,Y),(X,Z)]): (X,Either[Y,Z]) = \n",
    "        b match \n",
    "            case Left(x,y) => (x, Left(y))\n",
    "            case Right(x,z) => (x, Right(z))"
   ]
  },
  {
   "cell_type": "markdown",
   "metadata": {},
   "source": [
    "# Ejercicio 7"
   ]
  },
  {
   "cell_type": "markdown",
   "metadata": {},
   "source": [
    "Demuestra el siguiente isomorfismo entre tipos algebraicos de datos para todo tipo $X$: \n",
    "\n",
    "$(Unit+Unit)^X \\cong Boolean^X$"
   ]
  },
  {
   "cell_type": "code",
   "execution_count": null,
   "metadata": {},
   "outputs": [],
   "source": [
    "abstract class Isomorphic7[X] extends Isomorphic[X => Either[Unit, Unit], X => Boolean]"
   ]
  },
  {
   "cell_type": "markdown",
   "metadata": {},
   "source": [
    "A continuación se muestran dos ejemplos de funciones para los casos de prueba de este isomorfismo cuando $X=Int$:"
   ]
  },
  {
   "cell_type": "code",
   "execution_count": 59,
   "metadata": {},
   "outputs": [
    {
     "data": {
      "text/plain": [
       "\u001b[36mf\u001b[39m: \u001b[32mInt\u001b[39m => \u001b[32mEither\u001b[39m[\u001b[32mUnit\u001b[39m, \u001b[32mUnit\u001b[39m] = ammonite.$sess.cell59$Helper$$Lambda$4106/0x1f51df60@b35a65\r\n",
       "\u001b[36mg\u001b[39m: \u001b[32mInt\u001b[39m => \u001b[32mBoolean\u001b[39m = ammonite.$sess.cell59$Helper$$Lambda$4107/0x1f51e8f0@1df19c5"
      ]
     },
     "execution_count": 59,
     "metadata": {},
     "output_type": "execute_result"
    }
   ],
   "source": [
    "val f: Int => Either[Unit, Unit] = \n",
    "    i => if (i % 2 == 0) Left(()) else Right(())\n",
    "\n",
    "val g: Int => Boolean = \n",
    "    _ % 2 == 0"
   ]
  },
  {
   "cell_type": "markdown",
   "metadata": {},
   "source": [
    "Para poder comparar estas funciones se deberán sobreescribir los métodos de comparación de la siguiente forma:"
   ]
  },
  {
   "cell_type": "code",
   "execution_count": 60,
   "metadata": {},
   "outputs": [
    {
     "data": {
      "text/plain": [
       "defined \u001b[32mtrait\u001b[39m \u001b[36mEquals7\u001b[39m"
      ]
     },
     "execution_count": 60,
     "metadata": {},
     "output_type": "execute_result"
    }
   ],
   "source": [
    "trait Equals7 extends Isomorphic[Int => Either[Unit, Unit], Int => Boolean]:\n",
    "    \n",
    "    override def equalA(f1: Int => Either[Unit, Unit], f2: Int => Either[Unit, Unit]): Boolean = \n",
    "        f1(0) == f2(0) && \n",
    "        f1(1) == f2(1) && \n",
    "        f1(2) == f2(2) && \n",
    "        f1(3) == f2(3)\n",
    "\n",
    "    override def equalB(f1: Int => Boolean, f2: Int => Boolean): Boolean = \n",
    "        f1(0) == f2(0) && \n",
    "        f1(1) == f2(1) && \n",
    "        f1(2) == f2(2) && \n",
    "        f1(3) == f2(3)        "
   ]
  },
  {
   "cell_type": "markdown",
   "metadata": {
    "tags": []
   },
   "source": [
    "#### Solution"
   ]
  },
  {
   "cell_type": "code",
   "execution_count": 6,
   "metadata": {},
   "outputs": [
    {
     "data": {
      "text/plain": [
       "defined \u001b[32mclass\u001b[39m \u001b[36mIsomorphic7\u001b[39m"
      ]
     },
     "execution_count": 6,
     "metadata": {},
     "output_type": "execute_result"
    }
   ],
   "source": [
    "class Isomorphic7[X] extends Isomorphic[X => Either[Unit, Unit], X => Boolean]:\n",
    "\n",
    "    def from(a: X => Either[Unit, Unit]): X => Boolean = \n",
    "        x => a(x) match\n",
    "            case Left(_) => false\n",
    "            case Right(_) => true\n",
    "\n",
    "    def to(b: X => Boolean): X => Either[Unit, Unit] = \n",
    "        x => if b(x) then Right(()) else Left(())"
   ]
  },
  {
   "cell_type": "code",
   "execution_count": 7,
   "metadata": {},
   "outputs": [
    {
     "name": "stdout",
     "output_type": "stream",
     "text": [
      "\u001b[32mcell3$Helper$TestIso:\u001b[0m\n",
      "\u001b[32mlaw1\u001b[0m\n",
      "\u001b[32m- should hold\u001b[0m\n",
      "\u001b[32mlaw2\u001b[0m\n",
      "\u001b[32m- should hold\u001b[0m\n"
     ]
    }
   ],
   "source": [
    "run(TestIso(new Isomorphic7[Int] with Equals7)(f)(g))"
   ]
  },
  {
   "cell_type": "markdown",
   "metadata": {},
   "source": [
    "#### Your solution"
   ]
  },
  {
   "cell_type": "code",
   "execution_count": null,
   "metadata": {},
   "outputs": [],
   "source": [
    "// extends trait Isomorphic\n",
    "class Isomorphic7[X] extends Isomorphic[X => Either[Unit, Unit], X => Boolean]: \n",
    "    def from(a: X => Either[Unit, Unit]): X => Boolean = \n",
    "        ???"
   ]
  },
  {
   "cell_type": "code",
   "execution_count": null,
   "metadata": {},
   "outputs": [],
   "source": [
    "def from(a: X => Either[Unit, Unit]): X => Boolean = \n",
    "        ??? : X => Boolean"
   ]
  },
  {
   "cell_type": "code",
   "execution_count": null,
   "metadata": {},
   "outputs": [],
   "source": [
    "def from(a: X => Either[Unit, Unit]): X => Boolean = \n",
    "        (x: X) => ??? : Boolean"
   ]
  },
  {
   "cell_type": "code",
   "execution_count": null,
   "metadata": {},
   "outputs": [],
   "source": [
    "def from(a: X => Either[Unit, Unit]): X => Boolean = \n",
    "        (x: X) => \n",
    "            a(x) match \n",
    "                case Left(??? : Unit) => ??? : Boolean\n",
    "                case Right(??? : Unit) => ??? : Boolean"
   ]
  },
  {
   "cell_type": "code",
   "execution_count": null,
   "metadata": {},
   "outputs": [],
   "source": [
    "def from(a: X => Either[Unit, Unit]): X => Boolean = \n",
    "        x => \n",
    "            a(x) match \n",
    "                case Left(()) => false\n",
    "                case Right(()) => true"
   ]
  },
  {
   "cell_type": "code",
   "execution_count": null,
   "metadata": {},
   "outputs": [],
   "source": [
    "def to(a: X => Boolean): X => Either[Unit, Unit] = \n",
    "        ??? : X => Either[Unit,Unit]"
   ]
  },
  {
   "cell_type": "code",
   "execution_count": null,
   "metadata": {},
   "outputs": [],
   "source": [
    "def to(a: X => Boolean): X => Either[Unit, Unit] = \n",
    "        (x: X) => ??? : Either[Unit,Unit]"
   ]
  },
  {
   "cell_type": "code",
   "execution_count": 57,
   "metadata": {},
   "outputs": [
    {
     "name": "stderr",
     "output_type": "stream",
     "text": [
      "-- [E006] Not Found Error: cell58.sc:1:10 --------------------------------------\n",
      "1 |def to(a: X => Boolean): X => Either[Unit, Unit] = \n",
      "  |          ^\n",
      "  |          Not found: type X\n",
      "  |\n",
      "  | longer explanation available when compiling with `-explain`\n",
      "-- [E006] Not Found Error: cell58.sc:1:25 --------------------------------------\n",
      "1 |def to(a: X => Boolean): X => Either[Unit, Unit] = \n",
      "  |                         ^\n",
      "  |                         Not found: type X\n",
      "  |\n",
      "  | longer explanation available when compiling with `-explain`\n",
      "-- [E006] Not Found Error: cell58.sc:2:12 --------------------------------------\n",
      "2 |        (x: X) => \n",
      "  |            ^\n",
      "  |            Not found: type X\n",
      "  |\n",
      "  | longer explanation available when compiling with `-explain`\n",
      "Compilation Failed"
     ]
    }
   ],
   "source": [
    "def to(a: X => Boolean): X => Either[Unit, Unit] = \n",
    "        (x: X) => \n",
    "            a(x) match\n",
    "                case false => Left(())\n",
    "                case true => Right(())"
   ]
  },
  {
   "cell_type": "code",
   "execution_count": 58,
   "metadata": {},
   "outputs": [
    {
     "data": {
      "text/plain": [
       "defined \u001b[32mclass\u001b[39m \u001b[36mIsomorphic7\u001b[39m"
      ]
     },
     "execution_count": 58,
     "metadata": {},
     "output_type": "execute_result"
    }
   ],
   "source": [
    "class Isomorphic7[X] extends Isomorphic[X => Either[Unit, Unit], X => Boolean]: \n",
    "    def from(a: X => Either[Unit, Unit]): X => Boolean = \n",
    "        x => \n",
    "            a(x) match \n",
    "                case Left(()) => false\n",
    "                case Right(()) => true\n",
    "    def to(a: X => Boolean): X => Either[Unit, Unit] = \n",
    "        (x: X) => \n",
    "            a(x) match\n",
    "                case false => Left(())\n",
    "                case true => Right(())"
   ]
  },
  {
   "cell_type": "code",
   "execution_count": 61,
   "metadata": {},
   "outputs": [
    {
     "name": "stdout",
     "output_type": "stream",
     "text": [
      "\u001b[32mcell5$Helper$TestIso:\u001b[0m\n",
      "\u001b[32mlaw1\u001b[0m\n",
      "\u001b[32m- should hold\u001b[0m\n",
      "\u001b[32mlaw2\u001b[0m\n",
      "\u001b[32m- should hold\u001b[0m\n"
     ]
    }
   ],
   "source": [
    "run(TestIso(new Isomorphic7[Int] with Equals7)(f)(g))"
   ]
  },
  {
   "cell_type": "markdown",
   "metadata": {},
   "source": [
    "# Ejercicio 8"
   ]
  },
  {
   "cell_type": "markdown",
   "metadata": {},
   "source": [
    "Demuestra el siguiente isomorfismo entre tipos algebraicos de datos para todo tipo $X$, $Y$ y $Z$: \n",
    "\n",
    "$(Unit+Y+Z+Y*Z)^X \\cong (Y+Unit)^X * (Z+Unit)^X$"
   ]
  },
  {
   "cell_type": "code",
   "execution_count": null,
   "metadata": {},
   "outputs": [],
   "source": [
    "abstract class Isomorphic8[X, Y, Z] \n",
    "extends Isomorphic[X => Either[Unit, Either[Y, Either[Z, (Y, Z)]]], \n",
    "                   (X => Option[Y], X => Option[Z])]"
   ]
  },
  {
   "cell_type": "markdown",
   "metadata": {},
   "source": [
    "A continuación se muestran dos objetos para las pruebas de este isomorfismo cuando $X=Int$, $Y=Unit$ y $Z=Unit$:"
   ]
  },
  {
   "cell_type": "code",
   "execution_count": 65,
   "metadata": {},
   "outputs": [
    {
     "data": {
      "text/plain": [
       "\u001b[36mf\u001b[39m: \u001b[32mInt\u001b[39m => \u001b[32mEither\u001b[39m[\u001b[32mUnit\u001b[39m, \u001b[32mEither\u001b[39m[\u001b[32mUnit\u001b[39m, \u001b[32mEither\u001b[39m[\u001b[32mUnit\u001b[39m, (\u001b[32mUnit\u001b[39m, \u001b[32mUnit\u001b[39m)]]] = ammonite.$sess.cell65$Helper$$Lambda$4145/0x1f558160@1fd0e52\r\n",
       "\u001b[36mg\u001b[39m: (\u001b[32mInt\u001b[39m => \u001b[32mOption\u001b[39m[\u001b[32mUnit\u001b[39m], \u001b[32mInt\u001b[39m => \u001b[32mOption\u001b[39m[\u001b[32mUnit\u001b[39m]) = (\n",
       "  ammonite.$sess.cell65$Helper$$Lambda$4146/0x1f558b60@1f8735f,\n",
       "  ammonite.$sess.cell65$Helper$$Lambda$4147/0x1f559560@178feb8\n",
       ")"
      ]
     },
     "execution_count": 65,
     "metadata": {},
     "output_type": "execute_result"
    }
   ],
   "source": [
    "val f: Int => Either[Unit, Either[Unit, Either[Unit, (Unit, Unit)]]] = \n",
    "    i => if (i % 4 == 0) Left(()) \n",
    "         else if (i % 4 == 1) Right(Left(()))\n",
    "         else if (i % 4 == 2) Right(Right(Left(())))\n",
    "         else Right(Right(Right(((),()))))\n",
    "\n",
    "val g: (Int => Option[Unit], Int => Option[Unit]) = \n",
    "    (i => if (i % 2 == 0) None else Some(()),\n",
    "     i => if (i % 2 == 0) None else Some(()))"
   ]
  },
  {
   "cell_type": "markdown",
   "metadata": {},
   "source": [
    "Asimismo, se deberán las siguientes redefiniciones de los métodos de comparación:"
   ]
  },
  {
   "cell_type": "code",
   "execution_count": 66,
   "metadata": {},
   "outputs": [
    {
     "data": {
      "text/plain": [
       "defined \u001b[32mtrait\u001b[39m \u001b[36mEquals8\u001b[39m"
      ]
     },
     "execution_count": 66,
     "metadata": {},
     "output_type": "execute_result"
    }
   ],
   "source": [
    "trait Equals8 extends Isomorphic[Int => Either[Unit, Either[Unit, Either[Unit, (Unit, Unit)]]], \n",
    "                                 (Int => Option[Unit], Int => Option[Unit])]:\n",
    "    override def equalB(a1: (Int => Option[Unit], Int => Option[Unit]), \n",
    "                        a2: (Int => Option[Unit], Int => Option[Unit])): Boolean = \n",
    "        a1._1(0) == a2._1(0)\n",
    "        a1._1(1) == a2._1(1)\n",
    "        a1._1(2) == a2._1(2)\n",
    "        a1._1(3) == a2._1(3)\n",
    "        a1._2(0) == a2._2(0)\n",
    "        a1._2(1) == a2._2(1)\n",
    "        a1._2(2) == a2._2(2)\n",
    "        a1._2(3) == a2._2(3)\n",
    "    \n",
    "    override def equalA(a1: Int => Either[Unit, Either[Unit, Either[Unit, (Unit, Unit)]]],\n",
    "                        a2: Int => Either[Unit, Either[Unit, Either[Unit, (Unit, Unit)]]]): Boolean = \n",
    "        a1(0) == a2(0)\n",
    "        a1(1) == a2(1)\n",
    "        a1(2) == a2(2)\n",
    "        a1(3) == a2(3)"
   ]
  },
  {
   "cell_type": "markdown",
   "metadata": {},
   "source": [
    "#### Your solution"
   ]
  },
  {
   "cell_type": "code",
   "execution_count": 67,
   "metadata": {},
   "outputs": [
    {
     "data": {
      "text/plain": [
       "defined \u001b[32mclass\u001b[39m \u001b[36mIsomorphic8\u001b[39m"
      ]
     },
     "execution_count": 67,
     "metadata": {},
     "output_type": "execute_result"
    }
   ],
   "source": [
    "class Isomorphic8[X,Y,Z] extends Isomorphic[X => Either[Unit, Either[Y, Either[Z, (Y,Z)]]], (X => Option[Y], X => Option[Z])]:\n",
    "    def from(a: X => Either[Unit, Either[Y, Either[Z, (Y,Z)]]]): (X => Option[Y], X => Option[Z]) = \n",
    "    ((x: X) => \n",
    "         a(x) match \n",
    "             case Right(Left(y: Y)) => Some(y)\n",
    "             case Right(Right(Right((y: Y, z: Z)))) => Some(y)\n",
    "             case _ => None, \n",
    "     (x: X) =>\n",
    "         a(x) match \n",
    "             case Right(Right(Left(z: Z))) => Some(z)\n",
    "             case Right(Right(Right((y: Y, z: Z)))) => Some(z)\n",
    "             case _ => None)\n",
    "\n",
    "    def to(b: (X => Option[Y], X => Option[Z])): X => Either[Unit, Either[Y, Either[Z, (Y,Z)]]] = \n",
    "    (x : X) => \n",
    "        val r1: Option[Y] = b._1(x)\n",
    "        val r2: Option[Z] = b._2(x)\n",
    "        val result: (Option[Y], Option[Z]) = (b._1(x), b._2(x))\n",
    "        result match\n",
    "            case (None, None) => Left(())\n",
    "            case (Some(y), None) => Right(Left(y))\n",
    "            case (None, Some(z)) => Right(Right(Left(z)))\n",
    "            case (Some(y), Some(z)) => Right(Right(Right((y,z))))\n",
    "        \n",
    "        "
   ]
  },
  {
   "cell_type": "code",
   "execution_count": null,
   "metadata": {},
   "outputs": [],
   "source": [
    "def from(a: X => Either[Unit, Either[Y, Either[Z, (Y,Z)]]]): (X => Option[Y], X => Option[Z]) = \n",
    "    ((x: X) => ??? : Option[Y], (x: X) => ??? : Option[Z])"
   ]
  },
  {
   "cell_type": "code",
   "execution_count": 62,
   "metadata": {},
   "outputs": [
    {
     "data": {
      "text/plain": [
       "defined \u001b[32mfunction\u001b[39m \u001b[36mfrom\u001b[39m"
      ]
     },
     "execution_count": 62,
     "metadata": {},
     "output_type": "execute_result"
    }
   ],
   "source": [
    "def from(a: X => Either[Unit, Either[Y, Either[Z, (Y,Z)]]]): (X => Option[Y], X => Option[Z]) = \n",
    "    ((x: X) => \n",
    "         a(x) match \n",
    "             case Right(Left(y: Y)) => Some(y)\n",
    "             case Right(Right(Right((y: Y, z: Z)))) => Some(y)\n",
    "             case _ => None, \n",
    "     (x: X) =>\n",
    "         a(x) match \n",
    "             case Right(Right(Left(z: Z))) => Some(z)\n",
    "             case Right(Right(Right((y: Y, z: Z)))) => Some(z)\n",
    "             case _ => None)"
   ]
  },
  {
   "cell_type": "code",
   "execution_count": null,
   "metadata": {},
   "outputs": [],
   "source": [
    "def to(b: (X => Option[Y], X => Option[Z])): X => Either[Unit, Either[Y, Either[Z, (Y,Z)]]] = \n",
    "    (x : X) => ??? : Either[Unit, Either[Y, Either[Z, (Y,Z)]]]"
   ]
  },
  {
   "cell_type": "code",
   "execution_count": 70,
   "metadata": {},
   "outputs": [
    {
     "data": {
      "text/plain": [
       "defined \u001b[32mfunction\u001b[39m \u001b[36mto\u001b[39m"
      ]
     },
     "execution_count": 70,
     "metadata": {},
     "output_type": "execute_result"
    }
   ],
   "source": [
    "def to[X,Y,Z](b: (X => Option[Y], X => Option[Z])): X => Either[Unit, Either[Y, Either[Z, (Y,Z)]]] = \n",
    "    (x : X) => \n",
    "        val r1: Option[Y] = b._1(x)\n",
    "        val r2: Option[Z] = b._2(x)\n",
    "        val result: (Option[Y], Option[Z]) = (b._1(x), b._2(x))\n",
    "        result match\n",
    "            case (None, None) => Left(())\n",
    "            case (Some(y), None) => Right(Left(y))\n",
    "            case (None, Some(z)) => Right(Right(Left(z)))\n",
    "            case (Some(y), Some(z)) => Right(Right(Right((y,z))))"
   ]
  },
  {
   "cell_type": "code",
   "execution_count": 75,
   "metadata": {},
   "outputs": [
    {
     "data": {
      "text/plain": [
       "defined \u001b[32mclass\u001b[39m \u001b[36mIsomorphic8\u001b[39m"
      ]
     },
     "execution_count": 75,
     "metadata": {},
     "output_type": "execute_result"
    }
   ],
   "source": [
    "class Isomorphic8[X,Y,Z] extends Isomorphic[X => Either[Unit, Either[Y, Either[Z, (Y,Z)]]], (X => Option[Y], X => Option[Z])]:\n",
    "    def from(a: X => Either[Unit, Either[Y, Either[Z, (Y,Z)]]]): (X => Option[Y], X => Option[Z]) = \n",
    "    ((x: X) => \n",
    "         a(x) match \n",
    "             case Right(Left(y: Y)) => Some(y)\n",
    "             case Right(Right(Right((y: Y, z: Z)))) => Some(y)\n",
    "             case _ => None, \n",
    "     (x: X) =>\n",
    "         a(x) match \n",
    "             case Right(Right(Left(z: Z))) => Some(z)\n",
    "             case Right(Right(Right((y: Y, z: Z)))) => Some(z)\n",
    "             case _ => None)\n",
    "\n",
    "    def to(b: (X => Option[Y], X => Option[Z])): X => Either[Unit, Either[Y, Either[Z, (Y,Z)]]] = \n",
    "    (x : X) => \n",
    "        val r1: Option[Y] = b._1(x)\n",
    "        val r2: Option[Z] = b._2(x)\n",
    "        val result: (Option[Y], Option[Z]) = (b._1(x), b._2(x))\n",
    "        result match\n",
    "            case (None, None) => Left(())\n",
    "            case (Some(y), None) => Right(Left(y))\n",
    "            case (None, Some(z)) => Right(Right(Left(z)))\n",
    "            case (Some(y), Some(z)) => Right(Right(Right((y,z))))\n",
    "        \n",
    "        "
   ]
  },
  {
   "cell_type": "code",
   "execution_count": 76,
   "metadata": {},
   "outputs": [
    {
     "name": "stdout",
     "output_type": "stream",
     "text": [
      "\u001b[32mcell5$Helper$TestIso:\u001b[0m\n",
      "\u001b[32mlaw1\u001b[0m\n",
      "\u001b[32m- should hold\u001b[0m\n",
      "\u001b[32mlaw2\u001b[0m\n",
      "\u001b[32m- should hold\u001b[0m\n"
     ]
    }
   ],
   "source": [
    "run(TestIso(new Isomorphic8[Int,Unit,Unit] with Equals8)(f)(g))"
   ]
  },
  {
   "cell_type": "code",
   "execution_count": null,
   "metadata": {},
   "outputs": [],
   "source": []
  }
 ],
 "metadata": {
  "kernelspec": {
   "display_name": "Scala 3.3",
   "language": "scala",
   "name": "scala33"
  },
  "language_info": {
   "codemirror_mode": "text/x-scala",
   "file_extension": ".sc",
   "mimetype": "text/x-scala",
   "name": "scala",
   "nbconvert_exporter": "script",
   "version": "2.13.12"
  }
 },
 "nbformat": 4,
 "nbformat_minor": 4
}
